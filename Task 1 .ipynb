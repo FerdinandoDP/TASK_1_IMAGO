{
 "cells": [
  {
   "cell_type": "markdown",
   "id": "3a73078f",
   "metadata": {},
   "source": [
    "# IMAGO TEST\n"
   ]
  },
  {
   "cell_type": "markdown",
   "id": "ce4d9e12",
   "metadata": {},
   "source": [
    "## Task 1"
   ]
  },
  {
   "cell_type": "markdown",
   "id": "23c87b24",
   "metadata": {},
   "source": [
    "#### **Data Analysis & Understanding**\n",
    "    - You’ll receive three CSV files:\n",
    "        - `invoices.csv` : represents `[Abrechnung_Rechnungen]`\n",
    "        - `positions.csv` : represents `[Abrechnung_Positionen]`\n",
    "        - `customers.csv` : customer lookup with `KdNr`, `VerlagsName`, and `Region`\n",
    "    - You're free to create mock data based on the schema.\n",
    "    - Using SQL or Python (e.g. pandas), analyze:\n",
    "        - How many positions are linked to invoices that are missing payment info\n",
    "        - How much revenue is attributed to placeholder media ID '100000000'\n",
    "        - How many invoices have no positions attached\n",
    "    - Document your findings in a short markdown file or Jupyter Notebook."
   ]
  },
  {
   "cell_type": "markdown",
   "id": "8bdeab3e",
   "metadata": {},
   "source": [
    "###### Importing data from csv"
   ]
  },
  {
   "cell_type": "code",
   "execution_count": 2,
   "id": "8184ae2c",
   "metadata": {},
   "outputs": [],
   "source": [
    "import pandas as pd"
   ]
  },
  {
   "cell_type": "markdown",
   "id": "ba2ddf45",
   "metadata": {},
   "source": [
    "I will use read_csv to import data from csv files into a dataframe pandas, i will use sep=';' because we can see from file that the separator character is ';' "
   ]
  },
  {
   "cell_type": "code",
   "execution_count": 4,
   "id": "be563ba7",
   "metadata": {},
   "outputs": [],
   "source": [
    "Abrechung_Rechnungen = pd.read_csv(r'C:\\Users\\itali\\Downloads\\data-coding-challenge\\data-coding-challenge\\invoices.csv',sep=';')\n",
    "Abrechung_Positionen = pd.read_csv(r'C:\\Users\\itali\\Downloads\\data-coding-challenge\\data-coding-challenge\\positions.csv',sep=';')\n",
    "Abrechnung_Kunden = pd.read_csv(r'C:\\Users\\itali\\Downloads\\data-coding-challenge\\data-coding-challenge\\customers.csv',sep=';')"
   ]
  },
  {
   "cell_type": "markdown",
   "id": "71956062",
   "metadata": {},
   "source": [
    "just have a look from the tables"
   ]
  },
  {
   "cell_type": "code",
   "execution_count": 8,
   "id": "2e10fd61",
   "metadata": {},
   "outputs": [
    {
     "data": {
      "text/html": [
       "<div>\n",
       "<style scoped>\n",
       "    .dataframe tbody tr th:only-of-type {\n",
       "        vertical-align: middle;\n",
       "    }\n",
       "\n",
       "    .dataframe tbody tr th {\n",
       "        vertical-align: top;\n",
       "    }\n",
       "\n",
       "    .dataframe thead th {\n",
       "        text-align: right;\n",
       "    }\n",
       "</style>\n",
       "<table border=\"1\" class=\"dataframe\">\n",
       "  <thead>\n",
       "    <tr style=\"text-align: right;\">\n",
       "      <th></th>\n",
       "      <th>ReNummer</th>\n",
       "      <th>SummeNetto</th>\n",
       "      <th>MwStSatz</th>\n",
       "      <th>ZahlungsbetragBrutto</th>\n",
       "      <th>KdNr</th>\n",
       "      <th>Summenebenkosten</th>\n",
       "      <th>ReDatum</th>\n",
       "      <th>Zahlungsdatum</th>\n",
       "    </tr>\n",
       "  </thead>\n",
       "  <tbody>\n",
       "    <tr>\n",
       "      <th>0</th>\n",
       "      <td>103601</td>\n",
       "      <td>11786.7</td>\n",
       "      <td>0</td>\n",
       "      <td>0.0</td>\n",
       "      <td>78911</td>\n",
       "      <td>0.0</td>\n",
       "      <td>2025-04-04 00:00:00.000</td>\n",
       "      <td>NaN</td>\n",
       "    </tr>\n",
       "    <tr>\n",
       "      <th>1</th>\n",
       "      <td>103600</td>\n",
       "      <td>379.0</td>\n",
       "      <td>7</td>\n",
       "      <td>0.0</td>\n",
       "      <td>79666</td>\n",
       "      <td>0.0</td>\n",
       "      <td>2025-04-03 00:00:00.000</td>\n",
       "      <td>NaN</td>\n",
       "    </tr>\n",
       "    <tr>\n",
       "      <th>2</th>\n",
       "      <td>103599</td>\n",
       "      <td>160.0</td>\n",
       "      <td>7</td>\n",
       "      <td>0.0</td>\n",
       "      <td>30145</td>\n",
       "      <td>0.0</td>\n",
       "      <td>2025-04-04 00:00:00.000</td>\n",
       "      <td>NaN</td>\n",
       "    </tr>\n",
       "    <tr>\n",
       "      <th>3</th>\n",
       "      <td>103598</td>\n",
       "      <td>225.0</td>\n",
       "      <td>7</td>\n",
       "      <td>0.0</td>\n",
       "      <td>10383</td>\n",
       "      <td>0.0</td>\n",
       "      <td>2025-04-01 00:00:00.000</td>\n",
       "      <td>NaN</td>\n",
       "    </tr>\n",
       "    <tr>\n",
       "      <th>4</th>\n",
       "      <td>103597</td>\n",
       "      <td>1260.0</td>\n",
       "      <td>7</td>\n",
       "      <td>0.0</td>\n",
       "      <td>20213</td>\n",
       "      <td>0.0</td>\n",
       "      <td>2025-04-03 00:00:00.000</td>\n",
       "      <td>NaN</td>\n",
       "    </tr>\n",
       "  </tbody>\n",
       "</table>\n",
       "</div>"
      ],
      "text/plain": [
       "   ReNummer  SummeNetto  MwStSatz  ZahlungsbetragBrutto   KdNr  \\\n",
       "0    103601     11786.7         0                   0.0  78911   \n",
       "1    103600       379.0         7                   0.0  79666   \n",
       "2    103599       160.0         7                   0.0  30145   \n",
       "3    103598       225.0         7                   0.0  10383   \n",
       "4    103597      1260.0         7                   0.0  20213   \n",
       "\n",
       "   Summenebenkosten                  ReDatum Zahlungsdatum  \n",
       "0               0.0  2025-04-04 00:00:00.000           NaN  \n",
       "1               0.0  2025-04-03 00:00:00.000           NaN  \n",
       "2               0.0  2025-04-04 00:00:00.000           NaN  \n",
       "3               0.0  2025-04-01 00:00:00.000           NaN  \n",
       "4               0.0  2025-04-03 00:00:00.000           NaN  "
      ]
     },
     "execution_count": 8,
     "metadata": {},
     "output_type": "execute_result"
    }
   ],
   "source": [
    "Abrechung_Rechnungen.head()"
   ]
  },
  {
   "cell_type": "code",
   "execution_count": 9,
   "id": "481ec9d6",
   "metadata": {},
   "outputs": [
    {
     "data": {
      "text/html": [
       "<div>\n",
       "<style scoped>\n",
       "    .dataframe tbody tr th:only-of-type {\n",
       "        vertical-align: middle;\n",
       "    }\n",
       "\n",
       "    .dataframe tbody tr th {\n",
       "        vertical-align: top;\n",
       "    }\n",
       "\n",
       "    .dataframe thead th {\n",
       "        text-align: right;\n",
       "    }\n",
       "</style>\n",
       "<table border=\"1\" class=\"dataframe\">\n",
       "  <thead>\n",
       "    <tr style=\"text-align: right;\">\n",
       "      <th></th>\n",
       "      <th>id</th>\n",
       "      <th>ReId</th>\n",
       "      <th>KdNr</th>\n",
       "      <th>Nettobetrag</th>\n",
       "      <th>Bildnummer</th>\n",
       "      <th>VerDatum</th>\n",
       "    </tr>\n",
       "  </thead>\n",
       "  <tbody>\n",
       "    <tr>\n",
       "      <th>0</th>\n",
       "      <td>4154495</td>\n",
       "      <td>102038</td>\n",
       "      <td>50292.0</td>\n",
       "      <td>19.0</td>\n",
       "      <td>168161043.0</td>\n",
       "      <td>2022-09-29 00:00:00.000</td>\n",
       "    </tr>\n",
       "    <tr>\n",
       "      <th>1</th>\n",
       "      <td>4154496</td>\n",
       "      <td>102038</td>\n",
       "      <td>50292.0</td>\n",
       "      <td>19.0</td>\n",
       "      <td>108514408.0</td>\n",
       "      <td>2022-09-12 00:00:00.000</td>\n",
       "    </tr>\n",
       "    <tr>\n",
       "      <th>2</th>\n",
       "      <td>4154497</td>\n",
       "      <td>102038</td>\n",
       "      <td>50292.0</td>\n",
       "      <td>19.0</td>\n",
       "      <td>55374589.0</td>\n",
       "      <td>2022-09-08 00:00:00.000</td>\n",
       "    </tr>\n",
       "    <tr>\n",
       "      <th>3</th>\n",
       "      <td>4154498</td>\n",
       "      <td>102038</td>\n",
       "      <td>50292.0</td>\n",
       "      <td>19.0</td>\n",
       "      <td>55374589.0</td>\n",
       "      <td>2022-09-08 00:00:00.000</td>\n",
       "    </tr>\n",
       "    <tr>\n",
       "      <th>4</th>\n",
       "      <td>4154499</td>\n",
       "      <td>102038</td>\n",
       "      <td>50292.0</td>\n",
       "      <td>19.0</td>\n",
       "      <td>57865918.0</td>\n",
       "      <td>2022-09-08 00:00:00.000</td>\n",
       "    </tr>\n",
       "  </tbody>\n",
       "</table>\n",
       "</div>"
      ],
      "text/plain": [
       "        id    ReId     KdNr  Nettobetrag   Bildnummer                 VerDatum\n",
       "0  4154495  102038  50292.0         19.0  168161043.0  2022-09-29 00:00:00.000\n",
       "1  4154496  102038  50292.0         19.0  108514408.0  2022-09-12 00:00:00.000\n",
       "2  4154497  102038  50292.0         19.0   55374589.0  2022-09-08 00:00:00.000\n",
       "3  4154498  102038  50292.0         19.0   55374589.0  2022-09-08 00:00:00.000\n",
       "4  4154499  102038  50292.0         19.0   57865918.0  2022-09-08 00:00:00.000"
      ]
     },
     "execution_count": 9,
     "metadata": {},
     "output_type": "execute_result"
    }
   ],
   "source": [
    "Abrechung_Positionen.head()"
   ]
  },
  {
   "cell_type": "code",
   "execution_count": 10,
   "id": "517c2fe1",
   "metadata": {},
   "outputs": [
    {
     "data": {
      "text/html": [
       "<div>\n",
       "<style scoped>\n",
       "    .dataframe tbody tr th:only-of-type {\n",
       "        vertical-align: middle;\n",
       "    }\n",
       "\n",
       "    .dataframe tbody tr th {\n",
       "        vertical-align: top;\n",
       "    }\n",
       "\n",
       "    .dataframe thead th {\n",
       "        text-align: right;\n",
       "    }\n",
       "</style>\n",
       "<table border=\"1\" class=\"dataframe\">\n",
       "  <thead>\n",
       "    <tr style=\"text-align: right;\">\n",
       "      <th></th>\n",
       "      <th>id</th>\n",
       "      <th>Kdnr</th>\n",
       "      <th>Verlagsname</th>\n",
       "      <th>Region</th>\n",
       "    </tr>\n",
       "  </thead>\n",
       "  <tbody>\n",
       "    <tr>\n",
       "      <th>0</th>\n",
       "      <td>5</td>\n",
       "      <td>20172</td>\n",
       "      <td>1. FC Nürnberg</td>\n",
       "      <td>Nürnberg</td>\n",
       "    </tr>\n",
       "    <tr>\n",
       "      <th>1</th>\n",
       "      <td>19</td>\n",
       "      <td>20137</td>\n",
       "      <td>Allgäuer Zeitung / Allgäuer Zeitungsverlag GmbH</td>\n",
       "      <td>Bodensee</td>\n",
       "    </tr>\n",
       "    <tr>\n",
       "      <th>2</th>\n",
       "      <td>27</td>\n",
       "      <td>20115</td>\n",
       "      <td>Augsburger Allgemeine</td>\n",
       "      <td>München</td>\n",
       "    </tr>\n",
       "    <tr>\n",
       "      <th>3</th>\n",
       "      <td>69</td>\n",
       "      <td>10113</td>\n",
       "      <td>Brainpool TV Productions</td>\n",
       "      <td>Rheinland</td>\n",
       "    </tr>\n",
       "    <tr>\n",
       "      <th>4</th>\n",
       "      <td>72</td>\n",
       "      <td>10154</td>\n",
       "      <td>RFW / Redaktionsbüro Wipperfürth</td>\n",
       "      <td>Hamburg</td>\n",
       "    </tr>\n",
       "  </tbody>\n",
       "</table>\n",
       "</div>"
      ],
      "text/plain": [
       "   id   Kdnr                                      Verlagsname     Region\n",
       "0   5  20172                                   1. FC Nürnberg   Nürnberg\n",
       "1  19  20137  Allgäuer Zeitung / Allgäuer Zeitungsverlag GmbH   Bodensee\n",
       "2  27  20115                            Augsburger Allgemeine    München\n",
       "3  69  10113                         Brainpool TV Productions  Rheinland\n",
       "4  72  10154                 RFW / Redaktionsbüro Wipperfürth    Hamburg"
      ]
     },
     "execution_count": 10,
     "metadata": {},
     "output_type": "execute_result"
    }
   ],
   "source": [
    "Abrechnung_Kunden.head()"
   ]
  },
  {
   "cell_type": "markdown",
   "id": "1a5df0c1",
   "metadata": {},
   "source": [
    "**FIRST QUESTION**"
   ]
  },
  {
   "cell_type": "markdown",
   "id": "36b9960d",
   "metadata": {},
   "source": [
    "The first question is: **How many positions are linked to invoices that are missing payment info**\n",
    "\n",
    "To answer this, I would like to identify, for each position, the invoices that have missing values in any of the following fields: Zahlungsdatum (Payment Date), SummeNetto (Net Amount), ZahlungsbetragBrutto (Gross Payment Amount), KdNr (Customer Number), and Summenebenkosten (Additional Costs). These fields, according to the schema, are allowed to be NULL. As a first step, I want to verify whether there are any missing values in these fields by using the isnull() function in combination with sum(). "
   ]
  },
  {
   "cell_type": "code",
   "execution_count": 71,
   "id": "e263641c",
   "metadata": {},
   "outputs": [
    {
     "name": "stdout",
     "output_type": "stream",
     "text": [
      "Zahlungsdatum:\n",
      "399\n",
      "ZahlungsbetragBrutto:\n",
      "1\n",
      "KdNr:\n",
      "0\n",
      "Summenebenkosten:\n",
      "2\n",
      "SummeNetto:\n",
      "0\n"
     ]
    }
   ],
   "source": [
    "print('Zahlungsdatum:')\n",
    "print(Abrechung_Rechnungen['Zahlungsdatum'].isnull().sum())\n",
    "print('ZahlungsbetragBrutto:')\n",
    "print(Abrechung_Rechnungen['ZahlungsbetragBrutto'].isnull().sum())\n",
    "print('KdNr:')\n",
    "print(Abrechung_Rechnungen['KdNr'].isnull().sum())\n",
    "print('Summenebenkosten:')\n",
    "print(Abrechung_Rechnungen['Summenebenkosten'].isnull().sum())\n",
    "print('SummeNetto:')\n",
    "print(Abrechung_Rechnungen['SummeNetto'].isnull().sum())"
   ]
  },
  {
   "cell_type": "code",
   "execution_count": 76,
   "id": "cbe56cdc",
   "metadata": {},
   "outputs": [
    {
     "data": {
      "text/html": [
       "<div>\n",
       "<style scoped>\n",
       "    .dataframe tbody tr th:only-of-type {\n",
       "        vertical-align: middle;\n",
       "    }\n",
       "\n",
       "    .dataframe tbody tr th {\n",
       "        vertical-align: top;\n",
       "    }\n",
       "\n",
       "    .dataframe thead th {\n",
       "        text-align: right;\n",
       "    }\n",
       "</style>\n",
       "<table border=\"1\" class=\"dataframe\">\n",
       "  <thead>\n",
       "    <tr style=\"text-align: right;\">\n",
       "      <th></th>\n",
       "      <th>ReNummer</th>\n",
       "      <th>SummeNetto</th>\n",
       "      <th>MwStSatz</th>\n",
       "      <th>ZahlungsbetragBrutto</th>\n",
       "      <th>KdNr</th>\n",
       "      <th>Summenebenkosten</th>\n",
       "      <th>ReDatum</th>\n",
       "      <th>Zahlungsdatum</th>\n",
       "    </tr>\n",
       "  </thead>\n",
       "  <tbody>\n",
       "    <tr>\n",
       "      <th>1270</th>\n",
       "      <td>102331</td>\n",
       "      <td>1297.5</td>\n",
       "      <td>7</td>\n",
       "      <td>NaN</td>\n",
       "      <td>10957</td>\n",
       "      <td>0.0</td>\n",
       "      <td>2025-04-01 00:00:00.000</td>\n",
       "      <td>NaN</td>\n",
       "    </tr>\n",
       "  </tbody>\n",
       "</table>\n",
       "</div>"
      ],
      "text/plain": [
       "      ReNummer  SummeNetto  MwStSatz  ZahlungsbetragBrutto   KdNr  \\\n",
       "1270    102331      1297.5         7                   NaN  10957   \n",
       "\n",
       "      Summenebenkosten                  ReDatum Zahlungsdatum  \n",
       "1270               0.0  2025-04-01 00:00:00.000           NaN  "
      ]
     },
     "execution_count": 76,
     "metadata": {},
     "output_type": "execute_result"
    }
   ],
   "source": [
    "Abrechung_Rechnungen.loc[Abrechung_Rechnungen['ZahlungsbetragBrutto'].isnull()].head()"
   ]
  },
  {
   "cell_type": "code",
   "execution_count": 77,
   "id": "f1bbda80",
   "metadata": {},
   "outputs": [
    {
     "data": {
      "text/html": [
       "<div>\n",
       "<style scoped>\n",
       "    .dataframe tbody tr th:only-of-type {\n",
       "        vertical-align: middle;\n",
       "    }\n",
       "\n",
       "    .dataframe tbody tr th {\n",
       "        vertical-align: top;\n",
       "    }\n",
       "\n",
       "    .dataframe thead th {\n",
       "        text-align: right;\n",
       "    }\n",
       "</style>\n",
       "<table border=\"1\" class=\"dataframe\">\n",
       "  <thead>\n",
       "    <tr style=\"text-align: right;\">\n",
       "      <th></th>\n",
       "      <th>ReNummer</th>\n",
       "      <th>SummeNetto</th>\n",
       "      <th>MwStSatz</th>\n",
       "      <th>ZahlungsbetragBrutto</th>\n",
       "      <th>KdNr</th>\n",
       "      <th>Summenebenkosten</th>\n",
       "      <th>ReDatum</th>\n",
       "      <th>Zahlungsdatum</th>\n",
       "    </tr>\n",
       "  </thead>\n",
       "  <tbody>\n",
       "    <tr>\n",
       "      <th>19</th>\n",
       "      <td>103582</td>\n",
       "      <td>350.0</td>\n",
       "      <td>7</td>\n",
       "      <td>0.0</td>\n",
       "      <td>10383</td>\n",
       "      <td>NaN</td>\n",
       "      <td>2025-04-03 00:00:00.000</td>\n",
       "      <td>NaN</td>\n",
       "    </tr>\n",
       "    <tr>\n",
       "      <th>21</th>\n",
       "      <td>103580</td>\n",
       "      <td>11000.0</td>\n",
       "      <td>7</td>\n",
       "      <td>0.0</td>\n",
       "      <td>20608</td>\n",
       "      <td>NaN</td>\n",
       "      <td>2025-04-03 00:00:00.000</td>\n",
       "      <td>NaN</td>\n",
       "    </tr>\n",
       "  </tbody>\n",
       "</table>\n",
       "</div>"
      ],
      "text/plain": [
       "    ReNummer  SummeNetto  MwStSatz  ZahlungsbetragBrutto   KdNr  \\\n",
       "19    103582       350.0         7                   0.0  10383   \n",
       "21    103580     11000.0         7                   0.0  20608   \n",
       "\n",
       "    Summenebenkosten                  ReDatum Zahlungsdatum  \n",
       "19               NaN  2025-04-03 00:00:00.000           NaN  \n",
       "21               NaN  2025-04-03 00:00:00.000           NaN  "
      ]
     },
     "execution_count": 77,
     "metadata": {},
     "output_type": "execute_result"
    }
   ],
   "source": [
    "Abrechung_Rechnungen.loc[Abrechung_Rechnungen['Summenebenkosten'].isnull()].head()"
   ]
  },
  {
   "cell_type": "markdown",
   "id": "956e5092",
   "metadata": {},
   "source": [
    "Upon reviewing the data, I noticed that the two missing records both have Zahlungsdatum (Payment Date) as NULL. Given this, it may be sufficient to filter only on Zahlungsdatum IS NULL, unless there is a known correlation between missing payment dates and other fields such as SummeNetto, ZahlungsbetragBrutto, KdNr, or Summenebenkosten."
   ]
  },
  {
   "cell_type": "markdown",
   "id": "b30bf0c1",
   "metadata": {},
   "source": [
    " Another scenario to consider is that some positions may not be linked to any invoices at all. However, since the question specifically asks about positions that are linked to invoices, I will use an inner join between the positions and invoices tables to exclude unlinked records.\n",
    "\n",
    "There is a common field between the positions and invoices tables: KdNr, which likely stands for Kundennummer (Customer Number), as it also appears in the clients table. Additionally, ReNummer is the primary key of the invoices table, meaning that each ReNummer–KdNr pair must be unique. However, the positions table contains multiple rows with the same ReId but different KdNr values.","\n", "This inconsistency may indicate data quality issues and could explain problems in linking positions to the correct customers\n",
    "\n",
    "So the next step will be, comparing the solution of two different queries to better understand the problem with KdNr:\n",
    "- the first one is made up an inner join between positions and invoices using only the condition ReNummer = ReId\n",
    "- the second one is made up an inner join between positions and invoices using ReNummer = ReId and positions.KdNr = invoices.KdNr"
   ]
  },
  {
   "cell_type": "markdown",
   "id": "1f510a8b",
   "metadata": {},
   "source": [
    "Before we want to check if there are also some missing values for KdNr in the position table  "
   ]
  },
  {
   "cell_type": "code",
   "execution_count": 155,
   "id": "44bf9213",
   "metadata": {},
   "outputs": [
    {
     "data": {
      "text/plain": [
       "1"
      ]
     },
     "execution_count": 155,
     "metadata": {},
     "output_type": "execute_result"
    }
   ],
   "source": [
    "Abrechung_Positionen.loc[Abrechung_Positionen['KdNr'].isnull()]['id'].nunique()"
   ]
  },
  {
   "cell_type": "code",
   "execution_count": 156,
   "id": "866e4e0d",
   "metadata": {},
   "outputs": [
    {
     "data": {
      "text/html": [
       "<div>\n",
       "<style scoped>\n",
       "    .dataframe tbody tr th:only-of-type {\n",
       "        vertical-align: middle;\n",
       "    }\n",
       "\n",
       "    .dataframe tbody tr th {\n",
       "        vertical-align: top;\n",
       "    }\n",
       "\n",
       "    .dataframe thead th {\n",
       "        text-align: right;\n",
       "    }\n",
       "</style>\n",
       "<table border=\"1\" class=\"dataframe\">\n",
       "  <thead>\n",
       "    <tr style=\"text-align: right;\">\n",
       "      <th></th>\n",
       "      <th>id</th>\n",
       "      <th>ReId</th>\n",
       "      <th>KdNr</th>\n",
       "      <th>Nettobetrag</th>\n",
       "      <th>Bildnummer</th>\n",
       "      <th>VerDatum</th>\n",
       "    </tr>\n",
       "  </thead>\n",
       "  <tbody>\n",
       "    <tr>\n",
       "      <th>124096</th>\n",
       "      <td>5715403</td>\n",
       "      <td>103381</td>\n",
       "      <td>NaN</td>\n",
       "      <td>NaN</td>\n",
       "      <td>NaN</td>\n",
       "      <td>NaN</td>\n",
       "    </tr>\n",
       "  </tbody>\n",
       "</table>\n",
       "</div>"
      ],
      "text/plain": [
       "             id    ReId  KdNr  Nettobetrag  Bildnummer VerDatum\n",
       "124096  5715403  103381   NaN          NaN         NaN      NaN"
      ]
     },
     "execution_count": 156,
     "metadata": {},
     "output_type": "execute_result"
    }
   ],
   "source": [
    "Abrechung_Positionen.loc[Abrechung_Positionen['KdNr'].isnull()].head()"
   ]
  },
  {
   "cell_type": "markdown",
   "id": "d89ac9b5",
   "metadata": {},
   "source": [
    "there is also one row in position table with a missing value for KdNr"
   ]
  },
  {
   "cell_type": "markdown",
   "id": "2a7d04f0",
   "metadata": {},
   "source": [
    "**Solution n.1**"
   ]
  },
  {
   "cell_type": "code",
   "execution_count": 129,
   "id": "e5b7d193",
   "metadata": {},
   "outputs": [],
   "source": [
    "Positionen_inner_joined_Rechnungen = pd.merge(Abrechung_Positionen, Abrechung_Rechnungen, how='inner', left_on='ReId',right_on= 'ReNummer')"
   ]
  },
  {
   "cell_type": "code",
   "execution_count": 130,
   "id": "5cd8ce60",
   "metadata": {},
   "outputs": [
    {
     "data": {
      "text/html": [
       "<div>\n",
       "<style scoped>\n",
       "    .dataframe tbody tr th:only-of-type {\n",
       "        vertical-align: middle;\n",
       "    }\n",
       "\n",
       "    .dataframe tbody tr th {\n",
       "        vertical-align: top;\n",
       "    }\n",
       "\n",
       "    .dataframe thead th {\n",
       "        text-align: right;\n",
       "    }\n",
       "</style>\n",
       "<table border=\"1\" class=\"dataframe\">\n",
       "  <thead>\n",
       "    <tr style=\"text-align: right;\">\n",
       "      <th></th>\n",
       "      <th>id</th>\n",
       "      <th>ReId</th>\n",
       "      <th>KdNr_x</th>\n",
       "      <th>Nettobetrag</th>\n",
       "      <th>Bildnummer</th>\n",
       "      <th>VerDatum</th>\n",
       "      <th>ReNummer</th>\n",
       "      <th>SummeNetto</th>\n",
       "      <th>MwStSatz</th>\n",
       "      <th>ZahlungsbetragBrutto</th>\n",
       "      <th>KdNr_y</th>\n",
       "      <th>Summenebenkosten</th>\n",
       "      <th>ReDatum</th>\n",
       "      <th>Zahlungsdatum</th>\n",
       "    </tr>\n",
       "  </thead>\n",
       "  <tbody>\n",
       "    <tr>\n",
       "      <th>0</th>\n",
       "      <td>4154495</td>\n",
       "      <td>102038</td>\n",
       "      <td>50292.0</td>\n",
       "      <td>19.0</td>\n",
       "      <td>168161043.0</td>\n",
       "      <td>2022-09-29 00:00:00.000</td>\n",
       "      <td>102038</td>\n",
       "      <td>7114.46</td>\n",
       "      <td>0</td>\n",
       "      <td>6852.62</td>\n",
       "      <td>79705</td>\n",
       "      <td>261.84</td>\n",
       "      <td>2024-12-09 00:00:00.000</td>\n",
       "      <td>2025-01-14 00:00:00.000</td>\n",
       "    </tr>\n",
       "    <tr>\n",
       "      <th>1</th>\n",
       "      <td>4154496</td>\n",
       "      <td>102038</td>\n",
       "      <td>50292.0</td>\n",
       "      <td>19.0</td>\n",
       "      <td>108514408.0</td>\n",
       "      <td>2022-09-12 00:00:00.000</td>\n",
       "      <td>102038</td>\n",
       "      <td>7114.46</td>\n",
       "      <td>0</td>\n",
       "      <td>6852.62</td>\n",
       "      <td>79705</td>\n",
       "      <td>261.84</td>\n",
       "      <td>2024-12-09 00:00:00.000</td>\n",
       "      <td>2025-01-14 00:00:00.000</td>\n",
       "    </tr>\n",
       "    <tr>\n",
       "      <th>2</th>\n",
       "      <td>4154497</td>\n",
       "      <td>102038</td>\n",
       "      <td>50292.0</td>\n",
       "      <td>19.0</td>\n",
       "      <td>55374589.0</td>\n",
       "      <td>2022-09-08 00:00:00.000</td>\n",
       "      <td>102038</td>\n",
       "      <td>7114.46</td>\n",
       "      <td>0</td>\n",
       "      <td>6852.62</td>\n",
       "      <td>79705</td>\n",
       "      <td>261.84</td>\n",
       "      <td>2024-12-09 00:00:00.000</td>\n",
       "      <td>2025-01-14 00:00:00.000</td>\n",
       "    </tr>\n",
       "    <tr>\n",
       "      <th>3</th>\n",
       "      <td>4154498</td>\n",
       "      <td>102038</td>\n",
       "      <td>50292.0</td>\n",
       "      <td>19.0</td>\n",
       "      <td>55374589.0</td>\n",
       "      <td>2022-09-08 00:00:00.000</td>\n",
       "      <td>102038</td>\n",
       "      <td>7114.46</td>\n",
       "      <td>0</td>\n",
       "      <td>6852.62</td>\n",
       "      <td>79705</td>\n",
       "      <td>261.84</td>\n",
       "      <td>2024-12-09 00:00:00.000</td>\n",
       "      <td>2025-01-14 00:00:00.000</td>\n",
       "    </tr>\n",
       "    <tr>\n",
       "      <th>4</th>\n",
       "      <td>4154499</td>\n",
       "      <td>102038</td>\n",
       "      <td>50292.0</td>\n",
       "      <td>19.0</td>\n",
       "      <td>57865918.0</td>\n",
       "      <td>2022-09-08 00:00:00.000</td>\n",
       "      <td>102038</td>\n",
       "      <td>7114.46</td>\n",
       "      <td>0</td>\n",
       "      <td>6852.62</td>\n",
       "      <td>79705</td>\n",
       "      <td>261.84</td>\n",
       "      <td>2024-12-09 00:00:00.000</td>\n",
       "      <td>2025-01-14 00:00:00.000</td>\n",
       "    </tr>\n",
       "  </tbody>\n",
       "</table>\n",
       "</div>"
      ],
      "text/plain": [
       "        id    ReId   KdNr_x  Nettobetrag   Bildnummer  \\\n",
       "0  4154495  102038  50292.0         19.0  168161043.0   \n",
       "1  4154496  102038  50292.0         19.0  108514408.0   \n",
       "2  4154497  102038  50292.0         19.0   55374589.0   \n",
       "3  4154498  102038  50292.0         19.0   55374589.0   \n",
       "4  4154499  102038  50292.0         19.0   57865918.0   \n",
       "\n",
       "                  VerDatum  ReNummer  SummeNetto  MwStSatz  \\\n",
       "0  2022-09-29 00:00:00.000    102038     7114.46         0   \n",
       "1  2022-09-12 00:00:00.000    102038     7114.46         0   \n",
       "2  2022-09-08 00:00:00.000    102038     7114.46         0   \n",
       "3  2022-09-08 00:00:00.000    102038     7114.46         0   \n",
       "4  2022-09-08 00:00:00.000    102038     7114.46         0   \n",
       "\n",
       "   ZahlungsbetragBrutto  KdNr_y  Summenebenkosten                  ReDatum  \\\n",
       "0               6852.62   79705            261.84  2024-12-09 00:00:00.000   \n",
       "1               6852.62   79705            261.84  2024-12-09 00:00:00.000   \n",
       "2               6852.62   79705            261.84  2024-12-09 00:00:00.000   \n",
       "3               6852.62   79705            261.84  2024-12-09 00:00:00.000   \n",
       "4               6852.62   79705            261.84  2024-12-09 00:00:00.000   \n",
       "\n",
       "             Zahlungsdatum  \n",
       "0  2025-01-14 00:00:00.000  \n",
       "1  2025-01-14 00:00:00.000  \n",
       "2  2025-01-14 00:00:00.000  \n",
       "3  2025-01-14 00:00:00.000  \n",
       "4  2025-01-14 00:00:00.000  "
      ]
     },
     "execution_count": 130,
     "metadata": {},
     "output_type": "execute_result"
    }
   ],
   "source": [
    "Positionen_inner_joined_Rechnungen.head()"
   ]
  },
  {
   "cell_type": "code",
   "execution_count": 131,
   "id": "28e76fa3",
   "metadata": {},
   "outputs": [
    {
     "data": {
      "text/plain": [
       "129092"
      ]
     },
     "execution_count": 131,
     "metadata": {},
     "output_type": "execute_result"
    }
   ],
   "source": [
    "len(Positionen_inner_joined_Rechnungen)"
   ]
  },
  {
   "cell_type": "markdown",
   "id": "ad787a21",
   "metadata": {},
   "source": [
    "Now we can filter for null values and count the number of positions. We want to perform a select count(distinct id) filtered by the condition Zahlungsdatum is null. So we will use the loc combined to isnull to filter and the nunique to count the number of unique values in the column id (position id)"
   ]
  },
  {
   "cell_type": "code",
   "execution_count": 132,
   "id": "710eba87",
   "metadata": {},
   "outputs": [
    {
     "data": {
      "text/plain": [
       "18011"
      ]
     },
     "execution_count": 132,
     "metadata": {},
     "output_type": "execute_result"
    }
   ],
   "source": [
    "Positionen_inner_joined_Rechnungen.loc[\n",
    "    Positionen_inner_joined_Rechnungen['Zahlungsdatum'].isnull() \n",
    "].id.nunique()"
   ]
  },
  {
   "cell_type": "markdown",
   "id": "d6bdb10e",
   "metadata": {},
   "source": [
    "another way could be to calculate the len of the array of unique position id values"
   ]
  },
  {
   "cell_type": "code",
   "execution_count": 133,
   "id": "f7cb8c3a",
   "metadata": {},
   "outputs": [
    {
     "data": {
      "text/plain": [
       "18011"
      ]
     },
     "execution_count": 133,
     "metadata": {},
     "output_type": "execute_result"
    }
   ],
   "source": [
    "len(Positionen_inner_joined_Rechnungen.loc[Positionen_inner_joined_Rechnungen['Zahlungsdatum'].isnull()]['id'].unique())"
   ]
  },
  {
   "cell_type": "markdown",
   "id": "ba8ff143",
   "metadata": {},
   "source": [
    "If we want to apply this type of analysis more generally, we can modify the Python script as shown below, including an or condition between all the fields that could potentially be null."
   ]
  },
  {
   "cell_type": "code",
   "execution_count": 135,
   "id": "1c1fbd6c",
   "metadata": {},
   "outputs": [
    {
     "data": {
      "text/plain": [
       "18011"
      ]
     },
     "execution_count": 135,
     "metadata": {},
     "output_type": "execute_result"
    }
   ],
   "source": [
    "Positionen_inner_joined_Rechnungen.loc[\n",
    "    Positionen_inner_joined_Rechnungen['Zahlungsdatum'].isnull() |\n",
    "    Positionen_inner_joined_Rechnungen['ZahlungsbetragBrutto'].isnull() |\n",
    "    Positionen_inner_joined_Rechnungen['KdNr_y'].isnull() |\n",
    "    Positionen_inner_joined_Rechnungen['Summenebenkosten'].isnull() |\n",
    "    Positionen_inner_joined_Rechnungen['SummeNetto'].isnull()\n",
    "].id.nunique()"
   ]
  },
  {
   "cell_type": "markdown",
   "id": "8d44ba4d",
   "metadata": {},
   "source": [
    "**Solution n.2**"
   ]
  },
  {
   "cell_type": "code",
   "execution_count": 115,
   "id": "ffd74574",
   "metadata": {},
   "outputs": [],
   "source": [
    "Positionen_inner_joined_Rechnungen = pd.merge(Abrechung_Positionen, Abrechung_Rechnungen, how='inner', left_on=['ReId','KdNr'],right_on= ['ReNummer','KdNr'])"
   ]
  },
  {
   "cell_type": "code",
   "execution_count": 116,
   "id": "50602f79",
   "metadata": {},
   "outputs": [
    {
     "data": {
      "text/html": [
       "<div>\n",
       "<style scoped>\n",
       "    .dataframe tbody tr th:only-of-type {\n",
       "        vertical-align: middle;\n",
       "    }\n",
       "\n",
       "    .dataframe tbody tr th {\n",
       "        vertical-align: top;\n",
       "    }\n",
       "\n",
       "    .dataframe thead th {\n",
       "        text-align: right;\n",
       "    }\n",
       "</style>\n",
       "<table border=\"1\" class=\"dataframe\">\n",
       "  <thead>\n",
       "    <tr style=\"text-align: right;\">\n",
       "      <th></th>\n",
       "      <th>id</th>\n",
       "      <th>ReId</th>\n",
       "      <th>KdNr</th>\n",
       "      <th>Nettobetrag</th>\n",
       "      <th>Bildnummer</th>\n",
       "      <th>VerDatum</th>\n",
       "      <th>ReNummer</th>\n",
       "      <th>SummeNetto</th>\n",
       "      <th>MwStSatz</th>\n",
       "      <th>ZahlungsbetragBrutto</th>\n",
       "      <th>Summenebenkosten</th>\n",
       "      <th>ReDatum</th>\n",
       "      <th>Zahlungsdatum</th>\n",
       "    </tr>\n",
       "  </thead>\n",
       "  <tbody>\n",
       "    <tr>\n",
       "      <th>0</th>\n",
       "      <td>5387224</td>\n",
       "      <td>101604</td>\n",
       "      <td>20843.0</td>\n",
       "      <td>4.5</td>\n",
       "      <td>1.039632e+09</td>\n",
       "      <td>2024-10-01 00:00:00.000</td>\n",
       "      <td>101604</td>\n",
       "      <td>94.5</td>\n",
       "      <td>7</td>\n",
       "      <td>101.12</td>\n",
       "      <td>0.0</td>\n",
       "      <td>2024-11-04 00:00:00.000</td>\n",
       "      <td>2024-11-18 00:00:00.000</td>\n",
       "    </tr>\n",
       "    <tr>\n",
       "      <th>1</th>\n",
       "      <td>5387225</td>\n",
       "      <td>101604</td>\n",
       "      <td>20843.0</td>\n",
       "      <td>4.5</td>\n",
       "      <td>1.044140e+09</td>\n",
       "      <td>2024-10-01 00:00:00.000</td>\n",
       "      <td>101604</td>\n",
       "      <td>94.5</td>\n",
       "      <td>7</td>\n",
       "      <td>101.12</td>\n",
       "      <td>0.0</td>\n",
       "      <td>2024-11-04 00:00:00.000</td>\n",
       "      <td>2024-11-18 00:00:00.000</td>\n",
       "    </tr>\n",
       "    <tr>\n",
       "      <th>2</th>\n",
       "      <td>5387226</td>\n",
       "      <td>101604</td>\n",
       "      <td>20843.0</td>\n",
       "      <td>4.5</td>\n",
       "      <td>1.014992e+09</td>\n",
       "      <td>2024-10-01 00:00:00.000</td>\n",
       "      <td>101604</td>\n",
       "      <td>94.5</td>\n",
       "      <td>7</td>\n",
       "      <td>101.12</td>\n",
       "      <td>0.0</td>\n",
       "      <td>2024-11-04 00:00:00.000</td>\n",
       "      <td>2024-11-18 00:00:00.000</td>\n",
       "    </tr>\n",
       "    <tr>\n",
       "      <th>3</th>\n",
       "      <td>5387227</td>\n",
       "      <td>101604</td>\n",
       "      <td>20843.0</td>\n",
       "      <td>4.5</td>\n",
       "      <td>1.011300e+09</td>\n",
       "      <td>2024-10-01 00:00:00.000</td>\n",
       "      <td>101604</td>\n",
       "      <td>94.5</td>\n",
       "      <td>7</td>\n",
       "      <td>101.12</td>\n",
       "      <td>0.0</td>\n",
       "      <td>2024-11-04 00:00:00.000</td>\n",
       "      <td>2024-11-18 00:00:00.000</td>\n",
       "    </tr>\n",
       "    <tr>\n",
       "      <th>4</th>\n",
       "      <td>5387228</td>\n",
       "      <td>101604</td>\n",
       "      <td>20843.0</td>\n",
       "      <td>4.5</td>\n",
       "      <td>3.832862e+07</td>\n",
       "      <td>2024-10-01 00:00:00.000</td>\n",
       "      <td>101604</td>\n",
       "      <td>94.5</td>\n",
       "      <td>7</td>\n",
       "      <td>101.12</td>\n",
       "      <td>0.0</td>\n",
       "      <td>2024-11-04 00:00:00.000</td>\n",
       "      <td>2024-11-18 00:00:00.000</td>\n",
       "    </tr>\n",
       "  </tbody>\n",
       "</table>\n",
       "</div>"
      ],
      "text/plain": [
       "        id    ReId     KdNr  Nettobetrag    Bildnummer  \\\n",
       "0  5387224  101604  20843.0          4.5  1.039632e+09   \n",
       "1  5387225  101604  20843.0          4.5  1.044140e+09   \n",
       "2  5387226  101604  20843.0          4.5  1.014992e+09   \n",
       "3  5387227  101604  20843.0          4.5  1.011300e+09   \n",
       "4  5387228  101604  20843.0          4.5  3.832862e+07   \n",
       "\n",
       "                  VerDatum  ReNummer  SummeNetto  MwStSatz  \\\n",
       "0  2024-10-01 00:00:00.000    101604        94.5         7   \n",
       "1  2024-10-01 00:00:00.000    101604        94.5         7   \n",
       "2  2024-10-01 00:00:00.000    101604        94.5         7   \n",
       "3  2024-10-01 00:00:00.000    101604        94.5         7   \n",
       "4  2024-10-01 00:00:00.000    101604        94.5         7   \n",
       "\n",
       "   ZahlungsbetragBrutto  Summenebenkosten                  ReDatum  \\\n",
       "0                101.12               0.0  2024-11-04 00:00:00.000   \n",
       "1                101.12               0.0  2024-11-04 00:00:00.000   \n",
       "2                101.12               0.0  2024-11-04 00:00:00.000   \n",
       "3                101.12               0.0  2024-11-04 00:00:00.000   \n",
       "4                101.12               0.0  2024-11-04 00:00:00.000   \n",
       "\n",
       "             Zahlungsdatum  \n",
       "0  2024-11-18 00:00:00.000  \n",
       "1  2024-11-18 00:00:00.000  \n",
       "2  2024-11-18 00:00:00.000  \n",
       "3  2024-11-18 00:00:00.000  \n",
       "4  2024-11-18 00:00:00.000  "
      ]
     },
     "execution_count": 116,
     "metadata": {},
     "output_type": "execute_result"
    }
   ],
   "source": [
    "Positionen_inner_joined_Rechnungen.head()"
   ]
  },
  {
   "cell_type": "code",
   "execution_count": 117,
   "id": "affa338a",
   "metadata": {},
   "outputs": [
    {
     "data": {
      "text/plain": [
       "58206"
      ]
     },
     "execution_count": 117,
     "metadata": {},
     "output_type": "execute_result"
    }
   ],
   "source": [
    "len(Positionen_inner_joined_Rechnungen)"
   ]
  },
  {
   "cell_type": "markdown",
   "id": "c8ae8d9d",
   "metadata": {},
   "source": [
    "We can see here that the rows that have a match with also KdNr are less than the others"
   ]
  },
  {
   "cell_type": "code",
   "execution_count": 118,
   "id": "acb3dfb9",
   "metadata": {},
   "outputs": [
    {
     "data": {
      "text/plain": [
       "7112"
      ]
     },
     "execution_count": 118,
     "metadata": {},
     "output_type": "execute_result"
    }
   ],
   "source": [
    "Positionen_inner_joined_Rechnungen.loc[\n",
    "    Positionen_inner_joined_Rechnungen['Zahlungsdatum'].isnull() \n",
    "].id.nunique()"
   ]
  },
  {
   "cell_type": "markdown",
   "id": "1ded6c45",
   "metadata": {},
   "source": [
    "If we want to apply this type of analysis more generally, we can modify the Python script as shown below, including an or condition between all the fields that could potentially be null."
   ]
  },
  {
   "cell_type": "code",
   "execution_count": 120,
   "id": "d99a857a",
   "metadata": {},
   "outputs": [
    {
     "data": {
      "text/plain": [
       "7112"
      ]
     },
     "execution_count": 120,
     "metadata": {},
     "output_type": "execute_result"
    }
   ],
   "source": [
    "Positionen_inner_joined_Rechnungen.loc[\n",
    "    Positionen_inner_joined_Rechnungen['Zahlungsdatum'].isnull() |\n",
    "    Positionen_inner_joined_Rechnungen['ZahlungsbetragBrutto'].isnull() |\n",
    "    Positionen_inner_joined_Rechnungen['KdNr'].isnull() |\n",
    "    Positionen_inner_joined_Rechnungen['Summenebenkosten'].isnull() |\n",
    "    Positionen_inner_joined_Rechnungen['SummeNetto'].isnull()\n",
    "].id.nunique()"
   ]
  },
  {
   "cell_type": "markdown",
   "id": "fc08a902",
   "metadata": {},
   "source": [
    "After analyzing the data structure and constraints, I identified a potential issue with the KdNr field. Since ReNummer is the primary key in the invoices table, each invoice (ReNummer) must be unique and should not be associated with multiple customer numbers (KdNr).\n","\n", "However, in the positions table, some rows reference the same ReId with different KdNr values, which may indicate a data integrity issue.\n","\n",
"Despite this, based on the join logic and the requirement to find positions linked to invoices with missing payment information, the correct number of such positions is **18,011**. This result is returned by **Solution 1**, which uses the join condition only on ReNummer(ReId)"
   ]
  },
  {
   "cell_type": "markdown",
   "id": "66e2ab00",
   "metadata": {},
   "source": [
    "**SECOND QUESTION**"
   ]
  },
  {
   "cell_type": "markdown",
   "id": "6e4d4884",
   "metadata": {},
   "source": [
    "The second question is: **How much revenue is attributed to placeholder media ID '100000000'**\n",
    "\n",
    "The 'media ID' could be translated with the column 'Bildnummer' in position table and the revenue is linked to Nettobetrag.\n",
    "\n",
    "I want to perform an inner join between positions and invoices to link media id to the revenue, after i will filter for media id = 100000000 (where media_id=100000000) and sum the revenue (sum(revenue)). In this case we will use an inner join only on ReNummer ('ReId' for positions)\n",
    "\n",
    "So we can use again the previous inner join between positions and invoices filter the data for the bildnummer 100000000 and after sum the Nettobetrag  "
   ]
  },
  {
   "cell_type": "code",
   "execution_count": 139,
   "id": "99504937",
   "metadata": {},
   "outputs": [],
   "source": [
    "Positionen_inner_joined_Rechnungen = pd.merge(Abrechung_Positionen, Abrechung_Rechnungen, how='inner', left_on='ReId',right_on= 'ReNummer')"
   ]
  },
  {
   "cell_type": "code",
   "execution_count": 140,
   "id": "3a70014e",
   "metadata": {},
   "outputs": [
    {
     "data": {
      "text/plain": [
       "1319897.9100000001"
      ]
     },
     "execution_count": 140,
     "metadata": {},
     "output_type": "execute_result"
    }
   ],
   "source": [
    "#100000000\n",
    "Positionen_inner_joined_Rechnungen.loc[Positionen_inner_joined_Rechnungen['Bildnummer'] == 100000000]['Nettobetrag'].sum()"
   ]
  },
  {
   "cell_type": "markdown",
   "id": "3dffadcd",
   "metadata": {},
   "source": [
    "So the revenue attributed to placeholder media ID '100000000' is: **1319897.9100000001**"
   ]
  },
  {
   "cell_type": "markdown",
   "id": "d3d28363",
   "metadata": {},
   "source": [
    "if we will join also with KdNr field, we will have a lower amount"
   ]
  },
  {
   "cell_type": "code",
   "execution_count": 141,
   "id": "b216962f",
   "metadata": {},
   "outputs": [],
   "source": [
    "Positionen_inner_joined_Rechnungen = pd.merge(Abrechung_Positionen, Abrechung_Rechnungen, how='inner', left_on=['ReId','KdNr'],right_on= ['ReNummer','KdNr'])"
   ]
  },
  {
   "cell_type": "code",
   "execution_count": 142,
   "id": "51209b31",
   "metadata": {},
   "outputs": [
    {
     "data": {
      "text/plain": [
       "720639.97"
      ]
     },
     "execution_count": 142,
     "metadata": {},
     "output_type": "execute_result"
    }
   ],
   "source": [
    "Positionen_inner_joined_Rechnungen.loc[Positionen_inner_joined_Rechnungen['Bildnummer'] == 100000000]['Nettobetrag'].sum()"
   ]
  },
  {
   "cell_type": "markdown",
   "id": "b517bc3b",
   "metadata": {},
   "source": [
    "**THIRD QUESTION**"
   ]
  },
  {
   "cell_type": "markdown",
   "id": "ac2e496d",
   "metadata": {},
   "source": [
    "The third question is: **How many invoices have no positions attached**\n",
    "\n",
    "I want to perform a left join between invoices and positions and find the invoices that have no positions attached by finding the rows that have position id null"
   ]
  },
  {
   "cell_type": "code",
   "execution_count": 143,
   "id": "613b96f3",
   "metadata": {},
   "outputs": [],
   "source": [
    "Rechnungen_left_joined_Positionen = pd.merge(Abrechung_Rechnungen, Abrechung_Positionen, how='left', left_on = ['ReNummer'], right_on = ['ReId'])"
   ]
  },
  {
   "cell_type": "code",
   "execution_count": 144,
   "id": "336fa729",
   "metadata": {},
   "outputs": [
    {
     "data": {
      "text/html": [
       "<div>\n",
       "<style scoped>\n",
       "    .dataframe tbody tr th:only-of-type {\n",
       "        vertical-align: middle;\n",
       "    }\n",
       "\n",
       "    .dataframe tbody tr th {\n",
       "        vertical-align: top;\n",
       "    }\n",
       "\n",
       "    .dataframe thead th {\n",
       "        text-align: right;\n",
       "    }\n",
       "</style>\n",
       "<table border=\"1\" class=\"dataframe\">\n",
       "  <thead>\n",
       "    <tr style=\"text-align: right;\">\n",
       "      <th></th>\n",
       "      <th>ReNummer</th>\n",
       "      <th>SummeNetto</th>\n",
       "      <th>MwStSatz</th>\n",
       "      <th>ZahlungsbetragBrutto</th>\n",
       "      <th>KdNr_x</th>\n",
       "      <th>Summenebenkosten</th>\n",
       "      <th>ReDatum</th>\n",
       "      <th>Zahlungsdatum</th>\n",
       "      <th>id</th>\n",
       "      <th>ReId</th>\n",
       "      <th>KdNr_y</th>\n",
       "      <th>Nettobetrag</th>\n",
       "      <th>Bildnummer</th>\n",
       "      <th>VerDatum</th>\n",
       "    </tr>\n",
       "  </thead>\n",
       "  <tbody>\n",
       "    <tr>\n",
       "      <th>0</th>\n",
       "      <td>103601</td>\n",
       "      <td>11786.7</td>\n",
       "      <td>0</td>\n",
       "      <td>0.0</td>\n",
       "      <td>78911</td>\n",
       "      <td>0.0</td>\n",
       "      <td>2025-04-04 00:00:00.000</td>\n",
       "      <td>NaN</td>\n",
       "      <td>4516297.0</td>\n",
       "      <td>103601.0</td>\n",
       "      <td>78153.0</td>\n",
       "      <td>741.64</td>\n",
       "      <td>100000000.0</td>\n",
       "      <td>2023-01-15 00:00:00.000</td>\n",
       "    </tr>\n",
       "    <tr>\n",
       "      <th>1</th>\n",
       "      <td>103601</td>\n",
       "      <td>11786.7</td>\n",
       "      <td>0</td>\n",
       "      <td>0.0</td>\n",
       "      <td>78911</td>\n",
       "      <td>0.0</td>\n",
       "      <td>2025-04-04 00:00:00.000</td>\n",
       "      <td>NaN</td>\n",
       "      <td>4516298.0</td>\n",
       "      <td>103601.0</td>\n",
       "      <td>78152.0</td>\n",
       "      <td>14.68</td>\n",
       "      <td>113020829.0</td>\n",
       "      <td>2023-01-15 00:00:00.000</td>\n",
       "    </tr>\n",
       "    <tr>\n",
       "      <th>2</th>\n",
       "      <td>103601</td>\n",
       "      <td>11786.7</td>\n",
       "      <td>0</td>\n",
       "      <td>0.0</td>\n",
       "      <td>78911</td>\n",
       "      <td>0.0</td>\n",
       "      <td>2025-04-04 00:00:00.000</td>\n",
       "      <td>NaN</td>\n",
       "      <td>4516299.0</td>\n",
       "      <td>103601.0</td>\n",
       "      <td>78152.0</td>\n",
       "      <td>14.68</td>\n",
       "      <td>87092278.0</td>\n",
       "      <td>2023-01-15 00:00:00.000</td>\n",
       "    </tr>\n",
       "    <tr>\n",
       "      <th>3</th>\n",
       "      <td>103601</td>\n",
       "      <td>11786.7</td>\n",
       "      <td>0</td>\n",
       "      <td>0.0</td>\n",
       "      <td>78911</td>\n",
       "      <td>0.0</td>\n",
       "      <td>2025-04-04 00:00:00.000</td>\n",
       "      <td>NaN</td>\n",
       "      <td>4516300.0</td>\n",
       "      <td>103601.0</td>\n",
       "      <td>78152.0</td>\n",
       "      <td>14.68</td>\n",
       "      <td>130661743.0</td>\n",
       "      <td>2023-01-15 00:00:00.000</td>\n",
       "    </tr>\n",
       "    <tr>\n",
       "      <th>4</th>\n",
       "      <td>103601</td>\n",
       "      <td>11786.7</td>\n",
       "      <td>0</td>\n",
       "      <td>0.0</td>\n",
       "      <td>78911</td>\n",
       "      <td>0.0</td>\n",
       "      <td>2025-04-04 00:00:00.000</td>\n",
       "      <td>NaN</td>\n",
       "      <td>4516301.0</td>\n",
       "      <td>103601.0</td>\n",
       "      <td>78152.0</td>\n",
       "      <td>14.68</td>\n",
       "      <td>87092278.0</td>\n",
       "      <td>2023-01-15 00:00:00.000</td>\n",
       "    </tr>\n",
       "  </tbody>\n",
       "</table>\n",
       "</div>"
      ],
      "text/plain": [
       "   ReNummer  SummeNetto  MwStSatz  ZahlungsbetragBrutto  KdNr_x  \\\n",
       "0    103601     11786.7         0                   0.0   78911   \n",
       "1    103601     11786.7         0                   0.0   78911   \n",
       "2    103601     11786.7         0                   0.0   78911   \n",
       "3    103601     11786.7         0                   0.0   78911   \n",
       "4    103601     11786.7         0                   0.0   78911   \n",
       "\n",
       "   Summenebenkosten                  ReDatum Zahlungsdatum         id  \\\n",
       "0               0.0  2025-04-04 00:00:00.000           NaN  4516297.0   \n",
       "1               0.0  2025-04-04 00:00:00.000           NaN  4516298.0   \n",
       "2               0.0  2025-04-04 00:00:00.000           NaN  4516299.0   \n",
       "3               0.0  2025-04-04 00:00:00.000           NaN  4516300.0   \n",
       "4               0.0  2025-04-04 00:00:00.000           NaN  4516301.0   \n",
       "\n",
       "       ReId   KdNr_y  Nettobetrag   Bildnummer                 VerDatum  \n",
       "0  103601.0  78153.0       741.64  100000000.0  2023-01-15 00:00:00.000  \n",
       "1  103601.0  78152.0        14.68  113020829.0  2023-01-15 00:00:00.000  \n",
       "2  103601.0  78152.0        14.68   87092278.0  2023-01-15 00:00:00.000  \n",
       "3  103601.0  78152.0        14.68  130661743.0  2023-01-15 00:00:00.000  \n",
       "4  103601.0  78152.0        14.68   87092278.0  2023-01-15 00:00:00.000  "
      ]
     },
     "execution_count": 144,
     "metadata": {},
     "output_type": "execute_result"
    }
   ],
   "source": [
    "Rechnungen_left_joined_Positionen.head()"
   ]
  },
  {
   "cell_type": "code",
   "execution_count": 145,
   "id": "dff2af65",
   "metadata": {},
   "outputs": [
    {
     "data": {
      "text/plain": [
       "2"
      ]
     },
     "execution_count": 145,
     "metadata": {},
     "output_type": "execute_result"
    }
   ],
   "source": [
    "Rechnungen_left_joined_Positionen.loc[Rechnungen_left_joined_Positionen['id'].isnull()].ReNummer.nunique()"
   ]
  },
  {
   "cell_type": "markdown",
   "id": "608232d3",
   "metadata": {},
   "source": [
    "So the invoices that have no positions attached ar 2"
   ]
  },
  {
   "cell_type": "markdown",
   "id": "f5b05aa3",
   "metadata": {},
   "source": [
    "In this case if we want to join also with KdNr we will have more rows without position attached"
   ]
  },
  {
   "cell_type": "code",
   "execution_count": 147,
   "id": "4b17ed43",
   "metadata": {},
   "outputs": [],
   "source": [
    "Rechnungen_left_joined_Positionen = pd.merge(Abrechung_Rechnungen, Abrechung_Positionen, how='left', left_on = ['ReNummer','KdNr'], right_on = ['ReId','KdNr'])"
   ]
  },
  {
   "cell_type": "code",
   "execution_count": 149,
   "id": "07395a99",
   "metadata": {},
   "outputs": [
    {
     "data": {
      "text/html": [
       "<div>\n",
       "<style scoped>\n",
       "    .dataframe tbody tr th:only-of-type {\n",
       "        vertical-align: middle;\n",
       "    }\n",
       "\n",
       "    .dataframe tbody tr th {\n",
       "        vertical-align: top;\n",
       "    }\n",
       "\n",
       "    .dataframe thead th {\n",
       "        text-align: right;\n",
       "    }\n",
       "</style>\n",
       "<table border=\"1\" class=\"dataframe\">\n",
       "  <thead>\n",
       "    <tr style=\"text-align: right;\">\n",
       "      <th></th>\n",
       "      <th>ReNummer</th>\n",
       "      <th>SummeNetto</th>\n",
       "      <th>MwStSatz</th>\n",
       "      <th>ZahlungsbetragBrutto</th>\n",
       "      <th>KdNr</th>\n",
       "      <th>Summenebenkosten</th>\n",
       "      <th>ReDatum</th>\n",
       "      <th>Zahlungsdatum</th>\n",
       "      <th>id</th>\n",
       "      <th>ReId</th>\n",
       "      <th>Nettobetrag</th>\n",
       "      <th>Bildnummer</th>\n",
       "      <th>VerDatum</th>\n",
       "    </tr>\n",
       "  </thead>\n",
       "  <tbody>\n",
       "    <tr>\n",
       "      <th>0</th>\n",
       "      <td>103601</td>\n",
       "      <td>11786.7</td>\n",
       "      <td>0</td>\n",
       "      <td>0.0</td>\n",
       "      <td>78911</td>\n",
       "      <td>0.0</td>\n",
       "      <td>2025-04-04 00:00:00.000</td>\n",
       "      <td>NaN</td>\n",
       "      <td>NaN</td>\n",
       "      <td>NaN</td>\n",
       "      <td>NaN</td>\n",
       "      <td>NaN</td>\n",
       "      <td>NaN</td>\n",
       "    </tr>\n",
       "    <tr>\n",
       "      <th>1</th>\n",
       "      <td>103600</td>\n",
       "      <td>379.0</td>\n",
       "      <td>7</td>\n",
       "      <td>0.0</td>\n",
       "      <td>79666</td>\n",
       "      <td>0.0</td>\n",
       "      <td>2025-04-03 00:00:00.000</td>\n",
       "      <td>NaN</td>\n",
       "      <td>NaN</td>\n",
       "      <td>NaN</td>\n",
       "      <td>NaN</td>\n",
       "      <td>NaN</td>\n",
       "      <td>NaN</td>\n",
       "    </tr>\n",
       "    <tr>\n",
       "      <th>2</th>\n",
       "      <td>103599</td>\n",
       "      <td>160.0</td>\n",
       "      <td>7</td>\n",
       "      <td>0.0</td>\n",
       "      <td>30145</td>\n",
       "      <td>0.0</td>\n",
       "      <td>2025-04-04 00:00:00.000</td>\n",
       "      <td>NaN</td>\n",
       "      <td>5726648.0</td>\n",
       "      <td>103599.0</td>\n",
       "      <td>160.0</td>\n",
       "      <td>1.038478e+09</td>\n",
       "      <td>2025-04-04 00:00:00.000</td>\n",
       "    </tr>\n",
       "    <tr>\n",
       "      <th>3</th>\n",
       "      <td>103598</td>\n",
       "      <td>225.0</td>\n",
       "      <td>7</td>\n",
       "      <td>0.0</td>\n",
       "      <td>10383</td>\n",
       "      <td>0.0</td>\n",
       "      <td>2025-04-01 00:00:00.000</td>\n",
       "      <td>NaN</td>\n",
       "      <td>5726249.0</td>\n",
       "      <td>103598.0</td>\n",
       "      <td>45.0</td>\n",
       "      <td>1.344517e+08</td>\n",
       "      <td>2025-03-10 00:00:00.000</td>\n",
       "    </tr>\n",
       "    <tr>\n",
       "      <th>4</th>\n",
       "      <td>103598</td>\n",
       "      <td>225.0</td>\n",
       "      <td>7</td>\n",
       "      <td>0.0</td>\n",
       "      <td>10383</td>\n",
       "      <td>0.0</td>\n",
       "      <td>2025-04-01 00:00:00.000</td>\n",
       "      <td>NaN</td>\n",
       "      <td>5726250.0</td>\n",
       "      <td>103598.0</td>\n",
       "      <td>45.0</td>\n",
       "      <td>1.059388e+08</td>\n",
       "      <td>2025-03-15 00:00:00.000</td>\n",
       "    </tr>\n",
       "  </tbody>\n",
       "</table>\n",
       "</div>"
      ],
      "text/plain": [
       "   ReNummer  SummeNetto  MwStSatz  ZahlungsbetragBrutto   KdNr  \\\n",
       "0    103601     11786.7         0                   0.0  78911   \n",
       "1    103600       379.0         7                   0.0  79666   \n",
       "2    103599       160.0         7                   0.0  30145   \n",
       "3    103598       225.0         7                   0.0  10383   \n",
       "4    103598       225.0         7                   0.0  10383   \n",
       "\n",
       "   Summenebenkosten                  ReDatum Zahlungsdatum         id  \\\n",
       "0               0.0  2025-04-04 00:00:00.000           NaN        NaN   \n",
       "1               0.0  2025-04-03 00:00:00.000           NaN        NaN   \n",
       "2               0.0  2025-04-04 00:00:00.000           NaN  5726648.0   \n",
       "3               0.0  2025-04-01 00:00:00.000           NaN  5726249.0   \n",
       "4               0.0  2025-04-01 00:00:00.000           NaN  5726250.0   \n",
       "\n",
       "       ReId  Nettobetrag    Bildnummer                 VerDatum  \n",
       "0       NaN          NaN           NaN                      NaN  \n",
       "1       NaN          NaN           NaN                      NaN  \n",
       "2  103599.0        160.0  1.038478e+09  2025-04-04 00:00:00.000  \n",
       "3  103598.0         45.0  1.344517e+08  2025-03-10 00:00:00.000  \n",
       "4  103598.0         45.0  1.059388e+08  2025-03-15 00:00:00.000  "
      ]
     },
     "execution_count": 149,
     "metadata": {},
     "output_type": "execute_result"
    }
   ],
   "source": [
    "Rechnungen_left_joined_Positionen.head()"
   ]
  },
  {
   "cell_type": "code",
   "execution_count": 150,
   "id": "a8f24237",
   "metadata": {},
   "outputs": [
    {
     "data": {
      "text/plain": [
       "1011"
      ]
     },
     "execution_count": 150,
     "metadata": {},
     "output_type": "execute_result"
    }
   ],
   "source": [
    "Rechnungen_left_joined_Positionen.loc[Rechnungen_left_joined_Positionen['id'].isnull()].ReNummer.nunique()"
   ]
  },
  {
   "cell_type": "code",
   "execution_count": null,
   "id": "87e2a196",
   "metadata": {},
   "outputs": [],
   "source": []
  }
 ],
 "metadata": {
  "kernelspec": {
   "display_name": "Python 3 (ipykernel)",
   "language": "python",
   "name": "python3"
  },
  "language_info": {
   "codemirror_mode": {
    "name": "ipython",
    "version": 3
   },
   "file_extension": ".py",
   "mimetype": "text/x-python",
   "name": "python",
   "nbconvert_exporter": "python",
   "pygments_lexer": "ipython3",
   "version": "3.9.7"
  }
 },
 "nbformat": 4,
 "nbformat_minor": 5
}
